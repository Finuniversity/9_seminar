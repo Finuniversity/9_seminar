{
 "cells": [
  {
   "cell_type": "markdown",
   "id": "d46bba13",
   "metadata": {},
   "source": [
    "## Семинар №9: Функциональное программирование"
   ]
  },
  {
   "cell_type": "markdown",
   "id": "bbdce5ad",
   "metadata": {},
   "source": [
    "19) Написать декоратор flip, который переставляет аргументы декорируемой функции в обратном порядке (функция не имеет именованых аргументов)."
   ]
  },
  {
   "cell_type": "code",
   "execution_count": 1,
   "id": "5dae8baa",
   "metadata": {},
   "outputs": [],
   "source": [
    "# Your code\n"
   ]
  },
  {
   "cell_type": "markdown",
   "id": "8c8066d3",
   "metadata": {},
   "source": [
    "20) Провести расчет суммы четных чисел от 2 до 2 000 000 не создавая структур данных, хранящих эти числа."
   ]
  },
  {
   "cell_type": "code",
   "execution_count": 2,
   "id": "7752c4af",
   "metadata": {},
   "outputs": [],
   "source": [
    "# Your code\n"
   ]
  },
  {
   "cell_type": "markdown",
   "id": "271d155a",
   "metadata": {},
   "source": [
    "21) Написать компактный код, порождающий список вида:\n",
    "\n",
    "[3, ...(20 элементов)..., 3, 6, ...(20 элементов)..., 6, 9, ...(20 элементов)..., 9, 12, ...(20 элементов)..., 12]\n",
    "\n",
    "Код должно быть легко модифицировать, чтобы менять количество повторений элементов, количество разных элементов, и шаг с которым изменются элементы. Например, легко можно получить последовательность:\n",
    "\n",
    "[4, ...(10 элементов)..., 4, 9, ...(10 элементов)..., 9]"
   ]
  },
  {
   "cell_type": "code",
   "execution_count": 3,
   "id": "567dc016",
   "metadata": {},
   "outputs": [],
   "source": [
    "# Your code\n"
   ]
  }
 ],
 "metadata": {
  "kernelspec": {
   "display_name": "Python 3 (ipykernel)",
   "language": "python",
   "name": "python3"
  },
  "language_info": {
   "codemirror_mode": {
    "name": "ipython",
    "version": 3
   },
   "file_extension": ".py",
   "mimetype": "text/x-python",
   "name": "python",
   "nbconvert_exporter": "python",
   "pygments_lexer": "ipython3",
   "version": "3.9.7"
  }
 },
 "nbformat": 4,
 "nbformat_minor": 5
}
